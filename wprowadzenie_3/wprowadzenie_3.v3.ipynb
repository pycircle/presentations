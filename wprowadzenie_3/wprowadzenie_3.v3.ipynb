{
 "metadata": {
  "celltoolbar": "Slideshow",
  "kernelspec": {
   "display_name": "Python 2",
   "language": "python",
   "name": "python2"
  },
  "language_info": {
   "codemirror_mode": {
    "name": "ipython",
    "version": 2
   },
   "file_extension": ".py",
   "mimetype": "text/x-python",
   "name": "python",
   "nbconvert_exporter": "python",
   "pygments_lexer": "ipython2",
   "version": "2.7.10"
  },
  "name": ""
 },
 "nbformat": 3,
 "nbformat_minor": 0,
 "worksheets": [
  {
   "cells": [
    {
     "cell_type": "markdown",
     "metadata": {
      "slideshow": {
       "slide_type": "slide"
      }
     },
     "source": [
      "<img src='http://pycircle.org/static/pycircle_big.png' style=\"margin-left:auto; margin-right:auto; height:70%; width:70%\">"
     ]
    },
    {
     "cell_type": "heading",
     "level": 1,
     "metadata": {
      "slideshow": {
       "slide_type": "slide"
      }
     },
     "source": [
      "Wprowadzenie cz\u0119\u015b\u0107\u00a03"
     ]
    },
    {
     "cell_type": "heading",
     "level": 2,
     "metadata": {
      "slideshow": {
       "slide_type": "subslide"
      }
     },
     "source": [
      "Generatory"
     ]
    },
    {
     "cell_type": "markdown",
     "metadata": {
      "slideshow": {
       "slide_type": "fragment"
      }
     },
     "source": [
      "`range` vs `xrange`"
     ]
    },
    {
     "cell_type": "code",
     "collapsed": false,
     "input": [
      "range(2), xrange(2)"
     ],
     "language": "python",
     "metadata": {
      "slideshow": {
       "slide_type": "fragment"
      }
     },
     "outputs": [
      {
       "metadata": {},
       "output_type": "pyout",
       "prompt_number": 1,
       "text": [
        "([0, 1], xrange(2))"
       ]
      }
     ],
     "prompt_number": 1
    },
    {
     "cell_type": "code",
     "collapsed": true,
     "input": [
      "def gen(r):\n",
      "    for i in xrange(r):\n",
      "        yield i ** 2"
     ],
     "language": "python",
     "metadata": {
      "slideshow": {
       "slide_type": "subslide"
      }
     },
     "outputs": [],
     "prompt_number": 2
    },
    {
     "cell_type": "code",
     "collapsed": false,
     "input": [
      "generator = gen(5)\n",
      "generator"
     ],
     "language": "python",
     "metadata": {
      "slideshow": {
       "slide_type": "fragment"
      }
     },
     "outputs": [
      {
       "metadata": {},
       "output_type": "pyout",
       "prompt_number": 3,
       "text": [
        "<generator object gen at 0x109245550>"
       ]
      }
     ],
     "prompt_number": 3
    },
    {
     "cell_type": "code",
     "collapsed": false,
     "input": [
      "list(generator)"
     ],
     "language": "python",
     "metadata": {
      "slideshow": {
       "slide_type": "fragment"
      }
     },
     "outputs": [
      {
       "metadata": {},
       "output_type": "pyout",
       "prompt_number": 4,
       "text": [
        "[0, 1, 4, 9, 16]"
       ]
      }
     ],
     "prompt_number": 4
    },
    {
     "cell_type": "code",
     "collapsed": false,
     "input": [
      "generator = (i ** 2 for i in xrange(5))\n",
      "generator"
     ],
     "language": "python",
     "metadata": {
      "slideshow": {
       "slide_type": "fragment"
      }
     },
     "outputs": [
      {
       "metadata": {},
       "output_type": "pyout",
       "prompt_number": 5,
       "text": [
        "<generator object <genexpr> at 0x1092458c0>"
       ]
      }
     ],
     "prompt_number": 5
    },
    {
     "cell_type": "code",
     "collapsed": false,
     "input": [
      "list(generator)"
     ],
     "language": "python",
     "metadata": {
      "slideshow": {
       "slide_type": "fragment"
      }
     },
     "outputs": [
      {
       "metadata": {},
       "output_type": "pyout",
       "prompt_number": 6,
       "text": [
        "[0, 1, 4, 9, 16]"
       ]
      }
     ],
     "prompt_number": 6
    },
    {
     "cell_type": "code",
     "collapsed": false,
     "input": [
      "def gen_squares(up_to=100000):\n",
      "    s = 0\n",
      "    for sq in (i**2 for i in xrange(up_to)):\n",
      "        s += sq\n",
      "    return s\n",
      "\n",
      "def squares(up_to=100000):\n",
      "    s = 0\n",
      "    for sq in [i**2 for i in xrange(up_to)]:\n",
      "        s += sq\n",
      "    return s"
     ],
     "language": "python",
     "metadata": {
      "slideshow": {
       "slide_type": "subslide"
      }
     },
     "outputs": [],
     "prompt_number": 1
    },
    {
     "cell_type": "code",
     "collapsed": false,
     "input": [
      "%memit gen_squares()"
     ],
     "language": "python",
     "metadata": {
      "slideshow": {
       "slide_type": "fragment"
      }
     },
     "outputs": [
      {
       "output_type": "stream",
       "stream": "stdout",
       "text": [
        "peak memory: 25.87 MiB, increment: 0.16 MiB\n"
       ]
      }
     ],
     "prompt_number": 2
    },
    {
     "cell_type": "code",
     "collapsed": false,
     "input": [
      "%memit squares()"
     ],
     "language": "python",
     "metadata": {
      "slideshow": {
       "slide_type": "fragment"
      }
     },
     "outputs": [
      {
       "output_type": "stream",
       "stream": "stdout",
       "text": [
        "peak memory: 30.41 MiB, increment: 4.50 MiB\n"
       ]
      }
     ],
     "prompt_number": 3
    },
    {
     "cell_type": "markdown",
     "metadata": {
      "slideshow": {
       "slide_type": "slide"
      }
     },
     "source": [
      "## Modu\u0142y\n",
      "### Architektura programu w Pythonie"
     ]
    },
    {
     "cell_type": "markdown",
     "metadata": {
      "slideshow": {
       "slide_type": "subslide"
      }
     },
     "source": [
      "<img src='./static/moduly.png' style=\"margin-left:auto; margin-right:auto; height:70%; width:70%\">"
     ]
    },
    {
     "cell_type": "markdown",
     "metadata": {
      "slideshow": {
       "slide_type": "fragment"
      }
     },
     "source": [
      "`a.py` - plik najwy\u017cszego poziomu <br>\n",
      "`b.py`, `c.py` - modu\u0142y"
     ]
    },
    {
     "cell_type": "markdown",
     "metadata": {
      "slideshow": {
       "slide_type": "subslide"
      }
     },
     "source": [
      "## Troch\u0119 teorii\n",
      "- instrukcje modu\u0142\u00f3w wykonywane s\u0105 przy pierwszej operacji importowania\n",
      "- przypisania na najwy\u017cszym poziomie pliku tworz\u0105 atrybuty modu\u0142u\n",
      "- dost\u0119p do przestrzeni nazw modu\u0142u odbywa si\u0119 za pomoca atrybutu `__dict__` lub `dir(M)`, oznacza to ze przestrzenie nazw modu\u0142\u00f3w s\u0105 s\u0142ownikami.\n",
      "- modu\u0142y s\u0105 jedynym zakresem (lokalne jest w nich globalnym) \n",
      "\n",
      "Zakres pliku modu\u0142u staj\u0119 si\u0119 przestrzeni\u0105 nazw atrybut\u00f3w obiektu modu\u0142u i istnieje po zaimportowaniu."
     ]
    },
    {
     "cell_type": "markdown",
     "metadata": {
      "slideshow": {
       "slide_type": "subslide"
      }
     },
     "source": [
      "###  Co robi python importuj\u0105c?\n",
      "1. Odnalezienie pliku modu\u0142u\n",
      "2. Skompilowanie go do kodu bajtowego (je\u015bli to konieczne).\n",
      "(sprawdzane po datach)\n",
      "3. Wykonanie kodu modu\u0142y w celu utworzenia definiowanych przez niego obiekt\u00f3w."
     ]
    },
    {
     "cell_type": "markdown",
     "metadata": {
      "slideshow": {
       "slide_type": "subslide"
      }
     },
     "source": [
      "### Wyszukiwanie modu\u0142u\n",
      "1. Katalog g\u0142\u00f3wny programu.\n",
      "2. Katalogi PYTHONPATH (jesli ustawione)\n",
      "3. Katalogi biblioteki standardowej.\n",
      "4. Zawartosc plik\u00f3w .pth (je\u015bli obecne)"
     ]
    },
    {
     "cell_type": "code",
     "collapsed": false,
     "input": [
      "import sys\n",
      "sys.path[-2:]"
     ],
     "language": "python",
     "metadata": {
      "slideshow": {
       "slide_type": "fragment"
      }
     },
     "outputs": [
      {
       "metadata": {},
       "output_type": "pyout",
       "prompt_number": 7,
       "text": [
        "['/Library/Python/2.7/site-packages',\n",
        " '/usr/local/lib/python2.7/site-packages/IPython/extensions']"
       ]
      }
     ],
     "prompt_number": 7
    },
    {
     "cell_type": "markdown",
     "metadata": {
      "slideshow": {
       "slide_type": "subslide"
      }
     },
     "source": [
      "### Co mo\u017cna zaimportowa\u0107?\n",
      "- Plik z kodem \u017ar\u00f3d\u0142owym o nazwie b.py\n",
      "- Plik z kodem bajtowym o nazwie b.pyc\n",
      "- Katalog o nazwie b w przypadku importowania pakiet\u00f3w\n",
      "- Skompilowany modu\u0142 rozszerzenia, zazwyczaj napisany w jezykach C lub C++ i dynamiczne do\u0142aczany w momencie importowania (np. b.so w systemie Linux, b.dll lub b.pyd dla Cygwin i Windows)\n",
      "- Skompliowany modu\u0142 wbudowany napisany w C i statycznie do\u0142\u0105czony do Pythona\n",
      "- Komponent pliku ZIP rozpakowywany automatycznie po zaimportowaniu\n",
      "- Klase z Javy w Jython\u2019ie\n",
      "- Komponent z .NET w IronPython\u2019ie"
     ]
    },
    {
     "cell_type": "markdown",
     "metadata": {
      "slideshow": {
       "slide_type": "subslide"
      }
     },
     "source": [
      "### Jak nazywa\u0107?\n",
      "Modu\u0142y powinny by\u0107 nazywane zgodnie z normalnymi regu\u0142ami dotycz\u0105cymi nazw zmiennych. <br>\n",
      "Je\u015bli nazwiemy modu\u0142 if.py, nie bedziemy mogli go zaimportowac."
     ]
    },
    {
     "cell_type": "heading",
     "level": 2,
     "metadata": {
      "slideshow": {
       "slide_type": "subslide"
      }
     },
     "source": [
      "Importowanie"
     ]
    },
    {
     "cell_type": "code",
     "collapsed": false,
     "input": [
      "# %load mod.py\n",
      "\n",
      "def printer(x):\n",
      "    print x\n",
      "\n",
      "ATTR = 1\n",
      "MUTABLE = [1, 2, 3]\n"
     ],
     "language": "python",
     "metadata": {
      "slideshow": {
       "slide_type": "fragment"
      }
     },
     "outputs": [],
     "prompt_number": null
    },
    {
     "cell_type": "code",
     "collapsed": false,
     "input": [
      "import mod\n",
      "mod.printer(\"bla bla\")"
     ],
     "language": "python",
     "metadata": {
      "slideshow": {
       "slide_type": "fragment"
      }
     },
     "outputs": [
      {
       "output_type": "stream",
       "stream": "stdout",
       "text": [
        "bla bla\n"
       ]
      }
     ],
     "prompt_number": 12
    },
    {
     "cell_type": "code",
     "collapsed": false,
     "input": [
      "from mod import printer\n",
      "printer(\"bla bla\")"
     ],
     "language": "python",
     "metadata": {
      "slideshow": {
       "slide_type": "subslide"
      }
     },
     "outputs": [
      {
       "output_type": "stream",
       "stream": "stdout",
       "text": [
        "bla bla\n"
       ]
      }
     ],
     "prompt_number": 13
    },
    {
     "cell_type": "markdown",
     "metadata": {
      "slideshow": {
       "slide_type": "fragment"
      }
     },
     "source": [
      "```\n",
      "from module import (\n",
      "    name1, \n",
      "    name2,\n",
      ")\n",
      "```\n",
      "jest odpowiednikiem:\n",
      "```\n",
      "import module\n",
      "name1 = module.name1\n",
      "name2 = module.name2\n",
      "del module\n",
      "```"
     ]
    },
    {
     "cell_type": "heading",
     "level": 2,
     "metadata": {
      "slideshow": {
       "slide_type": "subslide"
      }
     },
     "source": [
      "Importowanie odbywa si\u0119\u00a0tylko raz!"
     ]
    },
    {
     "cell_type": "code",
     "collapsed": false,
     "input": [
      "import mod\n",
      "mod.ATTR"
     ],
     "language": "python",
     "metadata": {
      "slideshow": {
       "slide_type": "fragment"
      }
     },
     "outputs": [
      {
       "metadata": {},
       "output_type": "pyout",
       "prompt_number": 14,
       "text": [
        "1"
       ]
      }
     ],
     "prompt_number": 14
    },
    {
     "cell_type": "code",
     "collapsed": false,
     "input": [
      "mod.ATTR = 231\n",
      "mod.ATTR"
     ],
     "language": "python",
     "metadata": {
      "slideshow": {
       "slide_type": "fragment"
      }
     },
     "outputs": [
      {
       "metadata": {},
       "output_type": "pyout",
       "prompt_number": 15,
       "text": [
        "231"
       ]
      }
     ],
     "prompt_number": 15
    },
    {
     "cell_type": "code",
     "collapsed": false,
     "input": [
      "import mod\n",
      "mod.ATTR"
     ],
     "language": "python",
     "metadata": {
      "slideshow": {
       "slide_type": "fragment"
      }
     },
     "outputs": [
      {
       "metadata": {},
       "output_type": "pyout",
       "prompt_number": 16,
       "text": [
        "231"
       ]
      }
     ],
     "prompt_number": 16
    },
    {
     "cell_type": "code",
     "collapsed": false,
     "input": [
      "%%javascript \n",
      "IPython.notebook.kernel.restart();"
     ],
     "language": "python",
     "metadata": {
      "slideshow": {
       "slide_type": "skip"
      }
     },
     "outputs": [
      {
       "javascript": [
        "IPython.notebook.kernel.restart();"
       ],
       "metadata": {},
       "output_type": "display_data",
       "text": [
        "<IPython.core.display.Javascript object>"
       ]
      }
     ],
     "prompt_number": null
    },
    {
     "cell_type": "heading",
     "level": 2,
     "metadata": {
      "slideshow": {
       "slide_type": "subslide"
      }
     },
     "source": [
      "Uwagi"
     ]
    },
    {
     "cell_type": "code",
     "collapsed": true,
     "input": [
      "# %load mod.py\n",
      "\n",
      "def printer(x):\n",
      "    print x\n",
      "\n",
      "ATTR = 1\n",
      "MUTABLE = [1, 2, 3]\n"
     ],
     "language": "python",
     "metadata": {
      "slideshow": {
       "slide_type": "fragment"
      }
     },
     "outputs": [],
     "prompt_number": null
    },
    {
     "cell_type": "code",
     "collapsed": true,
     "input": [
      "from mod import ATTR, MUTABLE"
     ],
     "language": "python",
     "metadata": {
      "slideshow": {
       "slide_type": "fragment"
      }
     },
     "outputs": [],
     "prompt_number": 1
    },
    {
     "cell_type": "code",
     "collapsed": true,
     "input": [
      "ATTR = 1\n",
      "MUTABLE[2] = 12"
     ],
     "language": "python",
     "metadata": {
      "slideshow": {
       "slide_type": "fragment"
      }
     },
     "outputs": [],
     "prompt_number": 2
    },
    {
     "cell_type": "code",
     "collapsed": true,
     "input": [
      "import mod"
     ],
     "language": "python",
     "metadata": {
      "slideshow": {
       "slide_type": "fragment"
      }
     },
     "outputs": [],
     "prompt_number": 3
    },
    {
     "cell_type": "code",
     "collapsed": false,
     "input": [
      "mod.ATTR, mod.MUTABLE"
     ],
     "language": "python",
     "metadata": {
      "slideshow": {
       "slide_type": "fragment"
      }
     },
     "outputs": [
      {
       "metadata": {},
       "output_type": "pyout",
       "prompt_number": 4,
       "text": [
        "(1, [1, 2, 12])"
       ]
      }
     ],
     "prompt_number": 4
    },
    {
     "cell_type": "code",
     "collapsed": true,
     "input": [
      "# %load a.py\n",
      "\n",
      "def fun():\n",
      "    print \"jestem w a\"\n"
     ],
     "language": "python",
     "metadata": {
      "slideshow": {
       "slide_type": "subslide"
      }
     },
     "outputs": [],
     "prompt_number": null
    },
    {
     "cell_type": "code",
     "collapsed": true,
     "input": [
      "# %load b.py\n",
      "\n",
      "def fun():\n",
      "    print \"jestem w b\"\n"
     ],
     "language": "python",
     "metadata": {
      "slideshow": {
       "slide_type": "fragment"
      }
     },
     "outputs": [],
     "prompt_number": null
    },
    {
     "cell_type": "code",
     "collapsed": false,
     "input": [
      "from a import fun\n",
      "from b import fun\n",
      "fun()"
     ],
     "language": "python",
     "metadata": {
      "slideshow": {
       "slide_type": "fragment"
      }
     },
     "outputs": [
      {
       "output_type": "stream",
       "stream": "stdout",
       "text": [
        "jestem w b\n"
       ]
      }
     ],
     "prompt_number": 8
    },
    {
     "cell_type": "code",
     "collapsed": false,
     "input": [
      "import a\n",
      "import b\n",
      "a.fun()\n",
      "b.fun()"
     ],
     "language": "python",
     "metadata": {
      "slideshow": {
       "slide_type": "fragment"
      }
     },
     "outputs": [
      {
       "output_type": "stream",
       "stream": "stdout",
       "text": [
        "jestem w a\n",
        "jestem w b\n"
       ]
      }
     ],
     "prompt_number": 9
    },
    {
     "cell_type": "markdown",
     "metadata": {
      "slideshow": {
       "slide_type": "subslide"
      }
     },
     "source": [
      "## Zakresy\n",
      "### 1"
     ]
    },
    {
     "cell_type": "code",
     "collapsed": false,
     "input": [
      "# %load moda.py\n",
      "X = 88\n",
      "\n",
      "\n",
      "def f():\n",
      "    global X\n",
      "    X = 99\n"
     ],
     "language": "python",
     "metadata": {
      "slideshow": {
       "slide_type": "fragment"
      }
     },
     "outputs": [],
     "prompt_number": null
    },
    {
     "cell_type": "code",
     "collapsed": true,
     "input": [
      "# %load modb.py\n",
      "X = 11\n",
      "\n",
      "import moda\n",
      "\n",
      "moda.f()\n",
      "print(X, moda.X)\n"
     ],
     "language": "python",
     "metadata": {
      "slideshow": {
       "slide_type": "fragment"
      }
     },
     "outputs": [],
     "prompt_number": null
    },
    {
     "cell_type": "markdown",
     "metadata": {
      "slideshow": {
       "slide_type": "fragment"
      }
     },
     "source": [
      "Co zwr\u00f3ci odpalanie `modb.py`, a co zaimportowanie X z `moda`?"
     ]
    },
    {
     "cell_type": "code",
     "collapsed": false,
     "input": [
      "%run modb.py"
     ],
     "language": "python",
     "metadata": {
      "slideshow": {
       "slide_type": "subslide"
      }
     },
     "outputs": [
      {
       "output_type": "stream",
       "stream": "stdout",
       "text": [
        "(11, 99)\n"
       ]
      }
     ],
     "prompt_number": 14
    },
    {
     "cell_type": "code",
     "collapsed": false,
     "input": [
      "%%javascript \n",
      "IPython.notebook.kernel.restart();"
     ],
     "language": "python",
     "metadata": {
      "slideshow": {
       "slide_type": "skip"
      }
     },
     "outputs": [
      {
       "javascript": [
        "IPython.notebook.kernel.restart();"
       ],
       "metadata": {},
       "output_type": "display_data",
       "text": [
        "<IPython.core.display.Javascript object>"
       ]
      }
     ],
     "prompt_number": null
    },
    {
     "cell_type": "code",
     "collapsed": false,
     "input": [
      "from moda import X\n",
      "X"
     ],
     "language": "python",
     "metadata": {
      "slideshow": {
       "slide_type": "fragment"
      }
     },
     "outputs": [
      {
       "metadata": {},
       "output_type": "pyout",
       "prompt_number": 38,
       "text": [
        "88"
       ]
      }
     ],
     "prompt_number": 38
    },
    {
     "cell_type": "heading",
     "level": 3,
     "metadata": {
      "slideshow": {
       "slide_type": "subslide"
      }
     },
     "source": [
      "2"
     ]
    },
    {
     "cell_type": "code",
     "collapsed": true,
     "input": [
      "# %load mod1.py\n",
      "x = 1\n",
      "import mod2\n",
      "print(x, mod2.x, mod2.mod3.x)\n"
     ],
     "language": "python",
     "metadata": {
      "slideshow": {
       "slide_type": "fragment"
      }
     },
     "outputs": [],
     "prompt_number": null
    },
    {
     "cell_type": "code",
     "collapsed": true,
     "input": [
      "# %load mod2.py\n",
      "x = 2\n",
      "import mod3\n",
      "print(x, mod3.x)\n"
     ],
     "language": "python",
     "metadata": {
      "slideshow": {
       "slide_type": "fragment"
      }
     },
     "outputs": [],
     "prompt_number": null
    },
    {
     "cell_type": "code",
     "collapsed": true,
     "input": [
      "# %load mod3.py\n",
      "x = 3\n"
     ],
     "language": "python",
     "metadata": {
      "slideshow": {
       "slide_type": "fragment"
      }
     },
     "outputs": [],
     "prompt_number": null
    },
    {
     "cell_type": "markdown",
     "metadata": {
      "slideshow": {
       "slide_type": "fragment"
      }
     },
     "source": [
      "Co zwr\u00f3ci uruchmienie mod1.py ? "
     ]
    },
    {
     "cell_type": "code",
     "collapsed": false,
     "input": [
      "%run mod1.py"
     ],
     "language": "python",
     "metadata": {
      "slideshow": {
       "slide_type": "fragment"
      }
     },
     "outputs": [
      {
       "output_type": "stream",
       "stream": "stdout",
       "text": [
        "(2, 3)\n",
        "(1, 2, 3)\n"
       ]
      }
     ],
     "prompt_number": 9
    },
    {
     "cell_type": "heading",
     "level": 2,
     "metadata": {
      "slideshow": {
       "slide_type": "subslide"
      }
     },
     "source": [
      "`__init__.py`"
     ]
    },
    {
     "cell_type": "code",
     "collapsed": false,
     "input": [
      "!tree module/"
     ],
     "language": "python",
     "metadata": {
      "slideshow": {
       "slide_type": "fragment"
      }
     },
     "outputs": [
      {
       "output_type": "stream",
       "stream": "stdout",
       "text": [
        "module/\r\n",
        "\u251c\u2500\u2500 __init__.py\r\n",
        "\u2514\u2500\u2500 dir1\r\n",
        "    \u251c\u2500\u2500 __init__.py\r\n",
        "    \u2514\u2500\u2500 mod.py\r\n",
        "\r\n",
        "1 directory, 3 files\r\n"
       ]
      }
     ],
     "prompt_number": 13
    },
    {
     "cell_type": "code",
     "collapsed": true,
     "input": [
      "# %load module/__init__.py\n",
      "print \"module\"\n",
      "x = 1\n"
     ],
     "language": "python",
     "metadata": {
      "slideshow": {
       "slide_type": "subslide"
      }
     },
     "outputs": [],
     "prompt_number": null
    },
    {
     "cell_type": "code",
     "collapsed": false,
     "input": [
      "# %load module/dir1/__init__.py\n",
      "print \"dir1\"\n",
      "y = 2\n"
     ],
     "language": "python",
     "metadata": {
      "slideshow": {
       "slide_type": "fragment"
      }
     },
     "outputs": [],
     "prompt_number": null
    },
    {
     "cell_type": "code",
     "collapsed": true,
     "input": [
      "# %load module/dir1/mod.py\n",
      "print \"mod.py\"\n",
      "z = 3\n"
     ],
     "language": "python",
     "metadata": {
      "slideshow": {
       "slide_type": "fragment"
      }
     },
     "outputs": [],
     "prompt_number": null
    },
    {
     "cell_type": "code",
     "collapsed": false,
     "input": [
      "import module.dir1.mod"
     ],
     "language": "python",
     "metadata": {
      "slideshow": {
       "slide_type": "fragment"
      }
     },
     "outputs": [
      {
       "output_type": "stream",
       "stream": "stdout",
       "text": [
        "module\n",
        "dir1\n",
        "mod.py\n"
       ]
      }
     ],
     "prompt_number": 17
    },
    {
     "cell_type": "code",
     "collapsed": true,
     "input": [
      "import module.dir1.mod"
     ],
     "language": "python",
     "metadata": {
      "slideshow": {
       "slide_type": "subslide"
      }
     },
     "outputs": [],
     "prompt_number": 18
    },
    {
     "cell_type": "code",
     "collapsed": false,
     "input": [
      "module.x"
     ],
     "language": "python",
     "metadata": {
      "slideshow": {
       "slide_type": "fragment"
      }
     },
     "outputs": [
      {
       "metadata": {},
       "output_type": "pyout",
       "prompt_number": 19,
       "text": [
        "1"
       ]
      }
     ],
     "prompt_number": 19
    },
    {
     "cell_type": "code",
     "collapsed": false,
     "input": [
      "module.dir1.y"
     ],
     "language": "python",
     "metadata": {
      "slideshow": {
       "slide_type": "fragment"
      }
     },
     "outputs": [
      {
       "metadata": {},
       "output_type": "pyout",
       "prompt_number": 20,
       "text": [
        "2"
       ]
      }
     ],
     "prompt_number": 20
    },
    {
     "cell_type": "code",
     "collapsed": false,
     "input": [
      "module.dir1.mod.z"
     ],
     "language": "python",
     "metadata": {
      "slideshow": {
       "slide_type": "fragment"
      }
     },
     "outputs": [
      {
       "metadata": {},
       "output_type": "pyout",
       "prompt_number": 21,
       "text": [
        "3"
       ]
      }
     ],
     "prompt_number": 21
    },
    {
     "cell_type": "heading",
     "level": 2,
     "metadata": {
      "slideshow": {
       "slide_type": "subslide"
      }
     },
     "source": [
      "Importy wzgl\u0119dne"
     ]
    },
    {
     "cell_type": "markdown",
     "metadata": {
      "slideshow": {
       "slide_type": "fragment"
      }
     },
     "source": [
      "```from . import spam\n",
      "from .. import spam```"
     ]
    },
    {
     "cell_type": "markdown",
     "metadata": {
      "slideshow": {
       "slide_type": "fragment"
      }
     },
     "source": [
      "Nie jest to jednak dobr\u0105 praktyk\u0105 - lepiej pisa\u0107\u00a0importy absolutne - python3 je wymusza :)"
     ]
    },
    {
     "cell_type": "heading",
     "level": 2,
     "metadata": {
      "slideshow": {
       "slide_type": "subslide"
      }
     },
     "source": [
      "`__name__`"
     ]
    },
    {
     "cell_type": "code",
     "collapsed": true,
     "input": [
      "# %load name.py\n",
      "print __name__\n"
     ],
     "language": "python",
     "metadata": {
      "slideshow": {
       "slide_type": "fragment"
      }
     },
     "outputs": [],
     "prompt_number": null
    },
    {
     "cell_type": "code",
     "collapsed": false,
     "input": [
      "import name"
     ],
     "language": "python",
     "metadata": {
      "slideshow": {
       "slide_type": "fragment"
      }
     },
     "outputs": [
      {
       "output_type": "stream",
       "stream": "stdout",
       "text": [
        "name\n"
       ]
      }
     ],
     "prompt_number": 25
    },
    {
     "cell_type": "code",
     "collapsed": false,
     "input": [
      "%run name"
     ],
     "language": "python",
     "metadata": {
      "slideshow": {
       "slide_type": "subslide"
      }
     },
     "outputs": [
      {
       "output_type": "stream",
       "stream": "stdout",
       "text": [
        "__main__\n"
       ]
      }
     ],
     "prompt_number": 26
    },
    {
     "cell_type": "markdown",
     "metadata": {
      "slideshow": {
       "slide_type": "fragment"
      }
     },
     "source": [
      "St\u0105d:\n",
      "```\n",
      "if __name__ == '__main__':\n",
      "   main()\n",
      "```"
     ]
    },
    {
     "cell_type": "heading",
     "level": 2,
     "metadata": {
      "slideshow": {
       "slide_type": "subslide"
      }
     },
     "source": [
      "Kolejno\u015b\u0107\u00a0funkcji w modu\u0142ach"
     ]
    },
    {
     "cell_type": "code",
     "collapsed": true,
     "input": [
      "# %load kolejnosc.py\n",
      "func1()\n",
      "\n",
      "\n",
      "def func1():\n",
      "    print(func2())\n",
      "\n",
      "func1()\n",
      "\n",
      "\n",
      "def func2():\n",
      "    return(\"No witam\")\n",
      "\n",
      "func1()\n"
     ],
     "language": "python",
     "metadata": {
      "slideshow": {
       "slide_type": "fragment"
      }
     },
     "outputs": [],
     "prompt_number": null
    },
    {
     "cell_type": "code",
     "collapsed": false,
     "input": [
      "%run kolejnosc.py"
     ],
     "language": "python",
     "metadata": {
      "slideshow": {
       "slide_type": "fragment"
      }
     },
     "outputs": [
      {
       "ename": "NameError",
       "evalue": "name 'func1' is not defined",
       "output_type": "pyerr",
       "traceback": [
        "\u001b[0;31m---------------------------------------------------------------------------\u001b[0m",
        "\u001b[0;31mNameError\u001b[0m                                 Traceback (most recent call last)",
        "\u001b[0;32m/Users/nozdi/PyCircle/presentations/wprowadzenie_3/kolejnosc.py\u001b[0m in \u001b[0;36m<module>\u001b[0;34m()\u001b[0m\n\u001b[0;32m----> 1\u001b[0;31m \u001b[0mfunc1\u001b[0m\u001b[0;34m(\u001b[0m\u001b[0;34m)\u001b[0m\u001b[0;34m\u001b[0m\u001b[0m\n\u001b[0m\u001b[1;32m      2\u001b[0m \u001b[0;34m\u001b[0m\u001b[0m\n\u001b[1;32m      3\u001b[0m \u001b[0;34m\u001b[0m\u001b[0m\n\u001b[1;32m      4\u001b[0m \u001b[0;32mdef\u001b[0m \u001b[0mfunc1\u001b[0m\u001b[0;34m(\u001b[0m\u001b[0;34m)\u001b[0m\u001b[0;34m:\u001b[0m\u001b[0;34m\u001b[0m\u001b[0m\n\u001b[1;32m      5\u001b[0m     \u001b[0;32mprint\u001b[0m\u001b[0;34m(\u001b[0m\u001b[0mfunc2\u001b[0m\u001b[0;34m(\u001b[0m\u001b[0;34m)\u001b[0m\u001b[0;34m)\u001b[0m\u001b[0;34m\u001b[0m\u001b[0m\n",
        "\u001b[0;31mNameError\u001b[0m: name 'func1' is not defined"
       ]
      }
     ],
     "prompt_number": 28
    },
    {
     "cell_type": "code",
     "collapsed": true,
     "input": [
      "# %load kolejnosc.py\n",
      "# func1()\n",
      "\n",
      "\n",
      "def func1():\n",
      "    print(func2())\n",
      "\n",
      "func1()\n",
      "\n",
      "\n",
      "def func2():\n",
      "    return(\"No witam\")\n",
      "\n",
      "func1()\n"
     ],
     "language": "python",
     "metadata": {
      "slideshow": {
       "slide_type": "subslide"
      }
     },
     "outputs": [],
     "prompt_number": null
    },
    {
     "cell_type": "code",
     "collapsed": false,
     "input": [
      "%run kolejnosc.py"
     ],
     "language": "python",
     "metadata": {
      "slideshow": {
       "slide_type": "fragment"
      }
     },
     "outputs": [
      {
       "ename": "NameError",
       "evalue": "global name 'func2' is not defined",
       "output_type": "pyerr",
       "traceback": [
        "\u001b[0;31m---------------------------------------------------------------------------\u001b[0m",
        "\u001b[0;31mNameError\u001b[0m                                 Traceback (most recent call last)",
        "\u001b[0;32m/Users/nozdi/PyCircle/presentations/wprowadzenie_3/kolejnosc.py\u001b[0m in \u001b[0;36m<module>\u001b[0;34m()\u001b[0m\n\u001b[1;32m      5\u001b[0m     \u001b[0;32mprint\u001b[0m\u001b[0;34m(\u001b[0m\u001b[0mfunc2\u001b[0m\u001b[0;34m(\u001b[0m\u001b[0;34m)\u001b[0m\u001b[0;34m)\u001b[0m\u001b[0;34m\u001b[0m\u001b[0m\n\u001b[1;32m      6\u001b[0m \u001b[0;34m\u001b[0m\u001b[0m\n\u001b[0;32m----> 7\u001b[0;31m \u001b[0mfunc1\u001b[0m\u001b[0;34m(\u001b[0m\u001b[0;34m)\u001b[0m\u001b[0;34m\u001b[0m\u001b[0m\n\u001b[0m\u001b[1;32m      8\u001b[0m \u001b[0;34m\u001b[0m\u001b[0m\n\u001b[1;32m      9\u001b[0m \u001b[0;34m\u001b[0m\u001b[0m\n",
        "\u001b[0;32m/Users/nozdi/PyCircle/presentations/wprowadzenie_3/kolejnosc.py\u001b[0m in \u001b[0;36mfunc1\u001b[0;34m()\u001b[0m\n\u001b[1;32m      3\u001b[0m \u001b[0;34m\u001b[0m\u001b[0m\n\u001b[1;32m      4\u001b[0m \u001b[0;32mdef\u001b[0m \u001b[0mfunc1\u001b[0m\u001b[0;34m(\u001b[0m\u001b[0;34m)\u001b[0m\u001b[0;34m:\u001b[0m\u001b[0;34m\u001b[0m\u001b[0m\n\u001b[0;32m----> 5\u001b[0;31m     \u001b[0;32mprint\u001b[0m\u001b[0;34m(\u001b[0m\u001b[0mfunc2\u001b[0m\u001b[0;34m(\u001b[0m\u001b[0;34m)\u001b[0m\u001b[0;34m)\u001b[0m\u001b[0;34m\u001b[0m\u001b[0m\n\u001b[0m\u001b[1;32m      6\u001b[0m \u001b[0;34m\u001b[0m\u001b[0m\n\u001b[1;32m      7\u001b[0m \u001b[0mfunc1\u001b[0m\u001b[0;34m(\u001b[0m\u001b[0;34m)\u001b[0m\u001b[0;34m\u001b[0m\u001b[0m\n",
        "\u001b[0;31mNameError\u001b[0m: global name 'func2' is not defined"
       ]
      }
     ],
     "prompt_number": 30
    },
    {
     "cell_type": "code",
     "collapsed": true,
     "input": [
      "# %load kolejnosc.py\n",
      "# func1()\n",
      "\n",
      "\n",
      "def func1():\n",
      "    print(func2())\n",
      "\n",
      "# func1()\n",
      "\n",
      "\n",
      "def func2():\n",
      "    return(\"No witam\")\n",
      "\n",
      "func1()\n"
     ],
     "language": "python",
     "metadata": {
      "slideshow": {
       "slide_type": "subslide"
      }
     },
     "outputs": [],
     "prompt_number": null
    },
    {
     "cell_type": "code",
     "collapsed": false,
     "input": [
      "%run kolejnosc.py"
     ],
     "language": "python",
     "metadata": {
      "slideshow": {
       "slide_type": "fragment"
      }
     },
     "outputs": [
      {
       "output_type": "stream",
       "stream": "stdout",
       "text": [
        "No witam\n"
       ]
      }
     ],
     "prompt_number": 32
    },
    {
     "cell_type": "heading",
     "level": 2,
     "metadata": {
      "slideshow": {
       "slide_type": "subslide"
      }
     },
     "source": [
      "Referencje "
     ]
    },
    {
     "cell_type": "code",
     "collapsed": true,
     "input": [
      "# %load first.py\n",
      "x = 1\n",
      "\n",
      "\n",
      "def printer():\n",
      "    print(x)\n"
     ],
     "language": "python",
     "metadata": {
      "slideshow": {
       "slide_type": "fragment"
      }
     },
     "outputs": [],
     "prompt_number": null
    },
    {
     "cell_type": "code",
     "collapsed": true,
     "input": [
      "# %load sec.py\n",
      "from first import x, printer\n",
      "\n",
      "x = 88\n",
      "printer()\n"
     ],
     "language": "python",
     "metadata": {
      "slideshow": {
       "slide_type": "fragment"
      }
     },
     "outputs": [],
     "prompt_number": null
    },
    {
     "cell_type": "markdown",
     "metadata": {
      "slideshow": {
       "slide_type": "fragment"
      }
     },
     "source": [
      "Co si\u0119 stanie jak odpalimy sec.py?"
     ]
    },
    {
     "cell_type": "code",
     "collapsed": false,
     "input": [
      "%run sec.py"
     ],
     "language": "python",
     "metadata": {
      "slideshow": {
       "slide_type": "fragment"
      }
     },
     "outputs": [
      {
       "output_type": "stream",
       "stream": "stdout",
       "text": [
        "1\n"
       ]
      }
     ],
     "prompt_number": 35
    },
    {
     "cell_type": "heading",
     "level": 1,
     "metadata": {
      "slideshow": {
       "slide_type": "slide"
      }
     },
     "source": [
      "Zadanie"
     ]
    },
    {
     "cell_type": "markdown",
     "metadata": {
      "slideshow": {
       "slide_type": "fragment"
      }
     },
     "source": [
      "Stw\u00f3rz bibliotek\u0119 do rysowania w konsoli kszta\u0142t\u00f3w r\u00f3\u017cnych figur. <br>\n",
      "Wymagania:\n",
      "1. zawiera katalog z modu\u0142em/ami w \u015brodku\n",
      "2. zawiera skrypt wykonawczy kt\u00f3ry b\u0119dzie co\u015b wy\u015bwieta\u0142 tylko je\u017celi odpali si\u0119 go bezpo\u015brednio\n",
      "3. mo\u017cna narysowa\u0107 o zadanych wymiarach kwadrat, prostok\u0105t, tr\u00f3jk\u0105t, wiatraczek"
     ]
    },
    {
     "cell_type": "code",
     "collapsed": true,
     "input": [
      "from rozwiazania import *"
     ],
     "language": "python",
     "metadata": {
      "slideshow": {
       "slide_type": "skip"
      }
     },
     "outputs": [],
     "prompt_number": null
    },
    {
     "cell_type": "code",
     "collapsed": false,
     "input": [
      "prostokat(4, 10)"
     ],
     "language": "python",
     "metadata": {
      "slideshow": {
       "slide_type": "subslide"
      }
     },
     "outputs": [
      {
       "output_type": "stream",
       "stream": "stdout",
       "text": [
        "##########\n",
        "##########\n",
        "##########\n",
        "##########\n"
       ]
      }
     ],
     "prompt_number": 35
    },
    {
     "cell_type": "code",
     "collapsed": false,
     "input": [
      "kwadrat(5)"
     ],
     "language": "python",
     "metadata": {
      "slideshow": {
       "slide_type": "subslide"
      }
     },
     "outputs": [
      {
       "output_type": "stream",
       "stream": "stdout",
       "text": [
        "#####\n",
        "#####\n",
        "#####\n",
        "#####\n",
        "#####\n"
       ]
      }
     ],
     "prompt_number": 36
    },
    {
     "cell_type": "code",
     "collapsed": false,
     "input": [
      "trojkat(4)"
     ],
     "language": "python",
     "metadata": {
      "slideshow": {
       "slide_type": "subslide"
      }
     },
     "outputs": [
      {
       "output_type": "stream",
       "stream": "stdout",
       "text": [
        "#    \n",
        "##   \n",
        "###  \n",
        "#### \n"
       ]
      }
     ],
     "prompt_number": 37
    },
    {
     "cell_type": "code",
     "collapsed": false,
     "input": [
      "wiatraczek(10)"
     ],
     "language": "python",
     "metadata": {
      "slideshow": {
       "slide_type": "subslide"
      }
     },
     "outputs": [
      {
       "output_type": "stream",
       "stream": "stdout",
       "text": [
        "##########         #\n",
        " #########        ##\n",
        "  ########       ###\n",
        "   #######      ####\n",
        "    ######     #####\n",
        "     #####    ######\n",
        "      ####   #######\n",
        "       ###  ########\n",
        "        ## #########\n",
        "         ###########\n",
        "###########         \n",
        "######### ##        \n",
        "########  ###       \n",
        "#######   ####      \n",
        "######    #####     \n",
        "#####     ######    \n",
        "####      #######   \n",
        "###       ########  \n",
        "##        ######### \n",
        "#         ##########\n"
       ]
      }
     ],
     "prompt_number": 34
    }
   ],
   "metadata": {}
  }
 ]
}