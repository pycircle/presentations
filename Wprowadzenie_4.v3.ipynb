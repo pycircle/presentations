{
 "metadata": {
  "kernelspec": {
   "display_name": "Python 2",
   "language": "python",
   "name": "python2"
  },
  "language_info": {
   "codemirror_mode": {
    "name": "ipython",
    "version": 2
   },
   "file_extension": ".py",
   "mimetype": "text/x-python",
   "name": "python",
   "nbconvert_exporter": "python",
   "pygments_lexer": "ipython2",
   "version": "2.7.6"
  },
  "name": ""
 },
 "nbformat": 3,
 "nbformat_minor": 0,
 "worksheets": [
  {
   "cells": [
    {
     "cell_type": "heading",
     "level": 1,
     "metadata": {},
     "source": [
      "Programowanie obiektowe"
     ]
    },
    {
     "cell_type": "raw",
     "metadata": {},
     "source": [
      "Programowanie obiektowe:\n",
      "\n",
      "obiekt a klasa\n",
      "\n",
      "klasa: cechy, metody\n",
      "obiekt: warto\u015bci cech\n",
      "\n",
      "\n",
      "dziedziczenie\n",
      "\n",
      "zwierz\u0119\n",
      "pies kot mysz\n",
      "duza_rasa mala_rasa itp itd..."
     ]
    },
    {
     "cell_type": "raw",
     "metadata": {},
     "source": [
      "Pierwsza klasa"
     ]
    },
    {
     "cell_type": "code",
     "collapsed": false,
     "input": [
      "class Game(object):\n",
      "    def __init__(self, name):\n",
      "        self.name = name\n",
      "    def print_name(self):\n",
      "        print self.name\n",
      "gra1 = Game('nazwa1')\n",
      "gra1.print_name()"
     ],
     "language": "python",
     "metadata": {},
     "outputs": [
      {
       "output_type": "stream",
       "stream": "stdout",
       "text": [
        "nazwa1\n"
       ]
      }
     ],
     "prompt_number": 9
    },
    {
     "cell_type": "raw",
     "metadata": {},
     "source": [
      "Dziedziczenie:\n",
      "\n",
      "kolejno\u015b\u0107 szukania atrybut\u00f3w:\n",
      "szuka w obiekcie, \n",
      "nast\u0119pnie we wszystkich klasach powy\u017cej niego, \n",
      "od lewej do prawej w przypadku dziedziczenia wilokrotnego.\n"
     ]
    },
    {
     "cell_type": "code",
     "collapsed": false,
     "input": [
      "class Game(object):\n",
      "    def __init__(self, name):\n",
      "        self.name = name\n",
      "    def print_name(self):\n",
      "        print self.name\n",
      "\n",
      "class Planszowki(Game):\n",
      "    def __init__(self, name, liczba_graczy):\n",
      "        self.name = name\n",
      "        self.liczba_graczy = liczba_graczy\n",
      "    def print_name(self):\n",
      "        print self.name + ' dla ' + str(self.liczba_graczy)\n",
      "\n",
      "gra2 = Game('nazwa2')\n",
      "gra3 = Planszowki('nazwa3', 2)\n",
      "gra2.print_name()\n",
      "gra3.print_name()"
     ],
     "language": "python",
     "metadata": {},
     "outputs": [
      {
       "output_type": "stream",
       "stream": "stdout",
       "text": [
        "nazwa2\n",
        "nazwa3 dla 2\n"
       ]
      }
     ],
     "prompt_number": 8
    },
    {
     "cell_type": "heading",
     "level": 3,
     "metadata": {},
     "source": [
      "Wielodziedziczenie - kolejno\u015b\u0107"
     ]
    },
    {
     "cell_type": "code",
     "collapsed": false,
     "input": [
      "class Game(object):\n",
      "    def __init__(self, name):\n",
      "        self.name = name\n",
      "    def print_name(self):\n",
      "        print self.name\n",
      "\n",
      "class Talia(object):\n",
      "    def potasuj(self):\n",
      "        print 'potasowane'\n",
      "    def print_name(self):\n",
      "        print 'karcianka: '+ self.name\n",
      "\n",
      "class Karcianki(Game, Talia):\n",
      "    def __init__(self, name, liczba_talii):\n",
      "        self.name = name\n",
      "        self.liczba_talii = liczba_talii\n",
      "\n",
      "class Karcianki2(Talia, Game):\n",
      "    def __init__(self, name, liczba_talii):\n",
      "        self.name = name\n",
      "        self.liczba_talii = liczba_talii\n",
      "        \n",
      "gra1 = Karcianki('karcianka', 2)\n",
      "gra2 = Karcianki2('karcianka', 2)\n",
      "gra1.print_name()\n",
      "gra1.potasuj()\n",
      "gra2.print_name()\n",
      "gra2.potasuj()\n"
     ],
     "language": "python",
     "metadata": {},
     "outputs": [
      {
       "output_type": "stream",
       "stream": "stdout",
       "text": [
        "karcianka\n",
        "potasowane\n",
        "karcianka: karcianka\n",
        "potasowane\n"
       ]
      }
     ],
     "prompt_number": 7
    },
    {
     "cell_type": "heading",
     "level": 3,
     "metadata": {},
     "source": [
      "super a wywo\u0142anie metody konkretnej klasy"
     ]
    },
    {
     "cell_type": "raw",
     "metadata": {},
     "source": [
      "super"
     ]
    },
    {
     "cell_type": "code",
     "collapsed": false,
     "input": [
      "class Game(object):\n",
      "    def zagraj(self):\n",
      "        print 'pograne'\n",
      "\n",
      "class Talia(Game):\n",
      "    def zagraj(self):\n",
      "        print 'potasowane'\n",
      "        super(Talia, self).zagraj()\n",
      "\n",
      "class Karcianka(Game):\n",
      "    def zagraj(self):\n",
      "        print 'rozdane'\n",
      "        super(Karcianka, self).zagraj()\n",
      "\n",
      "class Munchkin(Talia, Karcianka):\n",
      "    def zagraj(self):\n",
      "        print 'Munchkin'\n",
      "        super(Munchkin, self).zagraj()\n",
      "gra1 = Munchkin()\n",
      "gra1.zagraj()\n"
     ],
     "language": "python",
     "metadata": {},
     "outputs": [
      {
       "output_type": "stream",
       "stream": "stdout",
       "text": [
        "Munchkin\n",
        "potasowane\n",
        "rozdane\n",
        "pograne\n"
       ]
      }
     ],
     "prompt_number": 6
    },
    {
     "cell_type": "raw",
     "metadata": {},
     "source": [
      "metoda klasy"
     ]
    },
    {
     "cell_type": "code",
     "collapsed": false,
     "input": [
      "class Game(object):\n",
      "    def zagraj(self):\n",
      "        print 'pograne'\n",
      "\n",
      "class Talia(Game):\n",
      "    def zagraj(self):\n",
      "        print 'potasowane'\n",
      "        Game.zagraj(self)\n",
      "\n",
      "class Karcianka(Game):\n",
      "    def zagraj(self):\n",
      "        print 'rozdane'\n",
      "        Game.zagraj(self)\n",
      "\n",
      "class Munchkin(Talia, Karcianka):\n",
      "    def zagraj(self):\n",
      "        print 'Munchkin'\n",
      "        Talia.zagraj(self)\n",
      "        Karcianka.zagraj(self)\n",
      "gra1 = Munchkin()\n",
      "gra1.zagraj()"
     ],
     "language": "python",
     "metadata": {
      "scrolled": true
     },
     "outputs": [
      {
       "output_type": "stream",
       "stream": "stdout",
       "text": [
        "Munchkin\n",
        "potasowane\n",
        "pograne\n",
        "rozdane\n",
        "pograne\n"
       ]
      }
     ],
     "prompt_number": 5
    },
    {
     "cell_type": "raw",
     "metadata": {},
     "source": [
      "Dziedziczenie z object\n",
      "class Game(object):   #new style\n",
      "\tpass\n",
      "class Game:\t\t\t#old style\n",
      "\tpass\n",
      "\n",
      "Python 3 only has new-style classes. No matter if you subclass from object or not, classes are new-style in Python 3. It is however recommended that you still subclass from object.\n",
      "\n",
      "Important behavior changes between old and new style classes: \n",
      "super added \n",
      "MRO changed \n",
      "descriptors added \n",
      "new style class objects cannot be raised unless derived from Exception\n",
      "__slots__ added\n"
     ]
    },
    {
     "cell_type": "heading",
     "level": 3,
     "metadata": {},
     "source": [
      "@staticmethod and @classmethod"
     ]
    },
    {
     "cell_type": "raw",
     "metadata": {},
     "source": [
      "classmethod must have a reference to a class object as the first parameter, whereas staticmethod can have no parameters at all.\n"
     ]
    },
    {
     "cell_type": "code",
     "collapsed": false,
     "input": [
      "class Date(object):\n",
      "\n",
      "    def __init__(self, day=0, month=0, year=0):\n",
      "        self.day = day\n",
      "        self.month = month\n",
      "        self.year = year\n",
      "        print 'success: ', year, month, day\n",
      "\n",
      "    @classmethod\n",
      "    def from_string(cls, date_as_string):\n",
      "        day, month, year = map(int, date_as_string.split('-'))\n",
      "        date1 = cls(day, month, year)\n",
      "        return date1\n",
      "\n",
      "    @staticmethod\n",
      "    def is_date_valid(date_as_string):\n",
      "        day, month, year = map(int, date_as_string.split('-'))\n",
      "        return day <= 31 and month <= 12 and year <= 3999\n",
      "\n",
      "\n",
      "is_date = Date.is_date_valid('11-09-2012')\n",
      "\n",
      "date2 = Date.from_string('11-09-2012')\n",
      "\n",
      "print is_date\n"
     ],
     "language": "python",
     "metadata": {},
     "outputs": [
      {
       "output_type": "stream",
       "stream": "stdout",
       "text": [
        "success:  2012 9 11\n",
        "True\n"
       ]
      }
     ],
     "prompt_number": 4
    },
    {
     "cell_type": "heading",
     "level": 3,
     "metadata": {},
     "source": [
      "ochrona przed zmianami"
     ]
    },
    {
     "cell_type": "code",
     "collapsed": false,
     "input": [
      "class Game(object):\n",
      "    def __init__(self, name):\n",
      "        self.name = name\n",
      "    def print_name(self):\n",
      "        return self.name\n",
      "    def zagraj(self):\n",
      "        print 'pograne w ' + self.__print_name()\n",
      "    def zagraj2(self):\n",
      "        print 'pograne w ' + self.print_name()\n",
      "    __print_name = print_name\n",
      "\n",
      "class Planszowki(Game):\n",
      "    def __init__(self, name, liczba_graczy):\n",
      "        self.name = name\n",
      "        self.liczba_graczy = liczba_graczy\n",
      "    def print_name(self):\n",
      "        return self.name + ' dla ' + str(self.liczba_graczy)\n",
      "\n",
      "gra1 = Planszowki('gra1', 2)\n",
      "gra1.zagraj()\n",
      "gra1.zagraj2()"
     ],
     "language": "python",
     "metadata": {},
     "outputs": [
      {
       "output_type": "stream",
       "stream": "stdout",
       "text": [
        "pograne w gra1\n",
        "pograne w gra1 dla 2\n"
       ]
      }
     ],
     "prompt_number": 3
    },
    {
     "cell_type": "raw",
     "metadata": {},
     "source": [
      "Napisz klas\u0119 Cz\u0142owiek. Ka\u017cdy cz\u0142owiek ma nadawane imi\u0119 i rok urodzenia. Ka\u017cdy cz\u0142owiek umie si\u0119 przedstawi\u0107, tzn. Wy\u015bwietli\u0107 swoje imi\u0119 oraz poda\u0107 sw\u00f3j wiek (wyliczony na podstawie roku urodzenia i aktualnej daty)\n",
      "Ludzi mo\u017cemy podzieli\u0107 na kobiety i m\u0119\u017cczyzn. Kobiety podczas podawania swojego wieku odejmuj\u0105 sobie 2 lata. M\u0119\u017cczy\u017ani natomiast maj\u0105 problem z liczeniem i za ka\u017cdym razem myl\u0105 si\u0119 o +/- 3 lata (losowo).\n",
      "Napisz klas\u0119 rodzic. Ka\u017cdy rodzic ma nadawany stopie\u0144 odpowiedzialno\u015bci od 0-5. Gdy podczas tworzenia obiektu rodzic nie podamy odpowiedzialno\u015bci nadawana jest warto\u015b\u0107 2. Rodzic podany o odpowiedzialno\u015b\u0107 odpowiada zgodnie z prawd\u0105.\n",
      "Ka\u017cda matka jest zar\u00f3wno kobiet\u0105 jak i rodzicem. Przedstawia si\u0119 m\u00f3wi\u0105c \u201eJestem /imi\u0119/ i jestem mam\u0105\u201d. Pytana o wiek odpowiada ile lat ma jej dziecko, kt\u00f3re urodzi\u0142a w wieku 20 lat (wykorzystaj funkcj\u0119 z klasy cz\u0142owiek do obliczania wieku, a nie z klasy kobieta!), je\u017celi nie ma 20 lat odpowiada jak kobieta.\n",
      "Ka\u017cdy ojciec jest zar\u00f3wno m\u0119\u017cczyzn\u0105 jak i rodzicem. Pytany o odpowiedzialno\u015b\u0107 zawy\u017ca j\u0105 o 1 (nawet je\u017celi wychodzi poza skal\u0119!).\n"
     ]
    },
    {
     "cell_type": "code",
     "collapsed": true,
     "input": [
      "matka1 = Matka('Anna', 1989, 2)\n",
      "matka2 = Matka('Julia', 2000, 1)\n",
      "ojciec1 = Ojciec('Radek', 1989)\n",
      "ojciec2 = Ojciec('Mateusz', 1989, 5)\n",
      "kobieta1 = Kobieta('Anita', 1989)\n",
      "czlowiek1 = Czlowiek('Gender', 1989)\n",
      "matka1.podaj_wiek()\n",
      "matka2.podaj_wiek()\n",
      "ojciec1.podaj_wiek()\n",
      "ojciec2.podaj_wiek()\n",
      "kobieta1.podaj_wiek()\n",
      "czlowiek1.podaj_wiek()\n",
      "ojciec1.podaj_odpowiedzialnosc()\n",
      "ojciec2.podaj_odpowiedzialnosc()\n",
      "matka1.podaj_odpowiedzialnosc()\n",
      "matka1.podaj_imie()\n",
      "kobieta1.podaj_imie()"
     ],
     "language": "python",
     "metadata": {},
     "outputs": [],
     "prompt_number": null
    }
   ],
   "metadata": {}
  }
 ]
}