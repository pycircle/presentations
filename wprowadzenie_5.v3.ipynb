{
 "metadata": {
  "celltoolbar": "Slideshow",
  "kernelspec": {
   "display_name": "Python 2",
   "language": "python",
   "name": "python2"
  },
  "language_info": {
   "codemirror_mode": {
    "name": "ipython",
    "version": 2
   },
   "file_extension": ".py",
   "mimetype": "text/x-python",
   "name": "python",
   "nbconvert_exporter": "python",
   "pygments_lexer": "ipython2",
   "version": "2.7.10"
  },
  "name": ""
 },
 "nbformat": 3,
 "nbformat_minor": 0,
 "worksheets": [
  {
   "cells": [
    {
     "cell_type": "markdown",
     "metadata": {
      "slideshow": {
       "slide_type": "slide"
      }
     },
     "source": [
      "<img src='http://pycircle.org/static/pycircle_big.png' style=\"margin-left:auto; margin-right:auto; height:70%; width:70%\">"
     ]
    },
    {
     "cell_type": "heading",
     "level": 1,
     "metadata": {
      "slideshow": {
       "slide_type": "slide"
      }
     },
     "source": [
      "super"
     ]
    },
    {
     "cell_type": "code",
     "collapsed": false,
     "input": [
      "class A(object):\n",
      "    def __init__(self, **kwargs):\n",
      "        print('A.__init__ with {}'.format(kwargs))\n",
      "        super(A, self).__init__()\n",
      "class B(A):\n",
      "    def __init__(self, **kwargs):\n",
      "        print('B.__init__ with {}'.format(kwargs))\n",
      "        super(B, self).__init__(**kwargs)\n",
      "class C(A):\n",
      "    def __init__(self, **kwargs):\n",
      "        print('C.__init__ with {}'.format(kwargs))\n",
      "        super(C, self).__init__(**kwargs)\n",
      "class D(B, C):\n",
      "    def __init__(self):\n",
      "        print('D.__init__')\n",
      "        super(D, self).__init__(a=1, b=2, x=3)"
     ],
     "language": "python",
     "metadata": {
      "slideshow": {
       "slide_type": "subslide"
      }
     },
     "outputs": [],
     "prompt_number": 195
    },
    {
     "cell_type": "code",
     "collapsed": false,
     "input": [
      "print(D.mro())\n",
      "D()"
     ],
     "language": "python",
     "metadata": {
      "slideshow": {
       "slide_type": "fragment"
      }
     },
     "outputs": [
      {
       "output_type": "stream",
       "stream": "stdout",
       "text": [
        "[<class '__main__.D'>, <class '__main__.B'>, <class '__main__.C'>, <class '__main__.A'>, <type 'object'>]\n",
        "D.__init__\n",
        "B.__init__ with {'a': 1, 'x': 3, 'b': 2}\n",
        "C.__init__ with {'a': 1, 'x': 3, 'b': 2}\n",
        "A.__init__ with {'a': 1, 'x': 3, 'b': 2}\n"
       ]
      },
      {
       "metadata": {},
       "output_type": "pyout",
       "prompt_number": 196,
       "text": [
        "<__main__.D at 0x102c28c10>"
       ]
      }
     ],
     "prompt_number": 196
    },
    {
     "cell_type": "code",
     "collapsed": false,
     "input": [
      "class A(object):\n",
      "    def __init__(self, a):\n",
      "        self.a = a\n",
      "\n",
      "class B(A):\n",
      "    def __init__(self, b, **kw):\n",
      "        self.b = b\n",
      "        super(B, self).__init__(**kw)\n",
      "\n",
      "class C(A):\n",
      "    def __init__(self, c, **kw):\n",
      "        self.c = c\n",
      "        super(C, self).__init__(**kw)\n",
      "\n",
      "class D(B, C):\n",
      "    def __init__(self, a, b, c):\n",
      "        super(D, self).__init__(a=a, b=b, c=c)\n"
     ],
     "language": "python",
     "metadata": {
      "slideshow": {
       "slide_type": "subslide"
      }
     },
     "outputs": [],
     "prompt_number": 31
    },
    {
     "cell_type": "code",
     "collapsed": false,
     "input": [
      "obj = D(1,2,3)"
     ],
     "language": "python",
     "metadata": {
      "slideshow": {
       "slide_type": "fragment"
      }
     },
     "outputs": [],
     "prompt_number": 32
    },
    {
     "cell_type": "code",
     "collapsed": false,
     "input": [
      "obj.a, obj.b, obj.c"
     ],
     "language": "python",
     "metadata": {
      "slideshow": {
       "slide_type": "fragment"
      }
     },
     "outputs": [
      {
       "metadata": {},
       "output_type": "pyout",
       "prompt_number": 197,
       "text": [
        "(1, 2, 3)"
       ]
      }
     ],
     "prompt_number": 197
    },
    {
     "cell_type": "code",
     "collapsed": true,
     "input": [
      "class First(object):\n",
      "    def __init__(self):\n",
      "        print \"first\"\n",
      "\n",
      "class Second(First):\n",
      "    def __init__(self):\n",
      "        print \"second before super\"\n",
      "        super(Second, self).__init__()\n",
      "        print \"second after super\"\n",
      "\n",
      "class Third(First):\n",
      "    def __init__(self):\n",
      "        print \"third before super\"\n",
      "        super(Third, self).__init__()\n",
      "        print \"third after super\"\n",
      "\n",
      "class Fourth(Second, Third):\n",
      "    def __init__(self):\n",
      "        print \"fourth before super\"\n",
      "        super(Fourth, self).__init__()\n",
      "        print \"that's it\""
     ],
     "language": "python",
     "metadata": {
      "slideshow": {
       "slide_type": "subslide"
      }
     },
     "outputs": [],
     "prompt_number": 68
    },
    {
     "cell_type": "code",
     "collapsed": false,
     "input": [
      "Fourth()"
     ],
     "language": "python",
     "metadata": {
      "slideshow": {
       "slide_type": "subslide"
      }
     },
     "outputs": [
      {
       "output_type": "stream",
       "stream": "stdout",
       "text": [
        "fourth before super\n",
        "second before super\n",
        "third before super\n",
        "first\n",
        "third after super\n",
        "second after super\n",
        "that's it\n"
       ]
      },
      {
       "metadata": {},
       "output_type": "pyout",
       "prompt_number": 69,
       "text": [
        "<__main__.Fourth at 0x102be9910>"
       ]
      }
     ],
     "prompt_number": 69
    },
    {
     "cell_type": "code",
     "collapsed": false,
     "input": [
      "class First(object):\n",
      "    def __init__(self):\n",
      "        print \"first\"\n",
      "\n",
      "class Second(First):\n",
      "    def __init__(self):\n",
      "        print \"second before super\"\n",
      "        super(Second, self).__init__(a=2)\n",
      "        print \"second after super\"\n",
      "\n",
      "class Third(First):\n",
      "    def __init__(self, a):\n",
      "        print \"third before super\"\n",
      "        super(Third, self).__init__()\n",
      "        print \"third after super\"\n",
      "\n",
      "class Fourth(Second, Third):\n",
      "    def __init__(self):\n",
      "        print \"fourth before super\"\n",
      "        super(Fourth, self).__init__()\n",
      "        print \"that's it\""
     ],
     "language": "python",
     "metadata": {
      "slideshow": {
       "slide_type": "subslide"
      }
     },
     "outputs": [],
     "prompt_number": 75
    },
    {
     "cell_type": "code",
     "collapsed": false,
     "input": [
      "Fourth()"
     ],
     "language": "python",
     "metadata": {
      "slideshow": {
       "slide_type": "subslide"
      }
     },
     "outputs": [
      {
       "output_type": "stream",
       "stream": "stdout",
       "text": [
        "fourth before super\n",
        "second before super\n",
        "third before super\n",
        "first\n",
        "third after super\n",
        "second after super\n",
        "that's it\n"
       ]
      },
      {
       "metadata": {},
       "output_type": "pyout",
       "prompt_number": 76,
       "text": [
        "<__main__.Fourth at 0x102be9a90>"
       ]
      }
     ],
     "prompt_number": 76
    },
    {
     "cell_type": "code",
     "collapsed": false,
     "input": [
      "Second()"
     ],
     "language": "python",
     "metadata": {
      "slideshow": {
       "slide_type": "fragment"
      }
     },
     "outputs": [
      {
       "output_type": "stream",
       "stream": "stdout",
       "text": [
        "second before super\n"
       ]
      },
      {
       "ename": "TypeError",
       "evalue": "__init__() got an unexpected keyword argument 'a'",
       "output_type": "pyerr",
       "traceback": [
        "\u001b[0;31m---------------------------------------------------------------------------\u001b[0m",
        "\u001b[0;31mTypeError\u001b[0m                                 Traceback (most recent call last)",
        "\u001b[0;32m<ipython-input-77-e8b862a7f38b>\u001b[0m in \u001b[0;36m<module>\u001b[0;34m()\u001b[0m\n\u001b[0;32m----> 1\u001b[0;31m \u001b[0mSecond\u001b[0m\u001b[0;34m(\u001b[0m\u001b[0;34m)\u001b[0m\u001b[0;34m\u001b[0m\u001b[0m\n\u001b[0m",
        "\u001b[0;32m<ipython-input-75-3b05ad4e2c8b>\u001b[0m in \u001b[0;36m__init__\u001b[0;34m(self)\u001b[0m\n\u001b[1;32m      6\u001b[0m     \u001b[0;32mdef\u001b[0m \u001b[0m__init__\u001b[0m\u001b[0;34m(\u001b[0m\u001b[0mself\u001b[0m\u001b[0;34m)\u001b[0m\u001b[0;34m:\u001b[0m\u001b[0;34m\u001b[0m\u001b[0m\n\u001b[1;32m      7\u001b[0m         \u001b[0;32mprint\u001b[0m \u001b[0;34m\"second before super\"\u001b[0m\u001b[0;34m\u001b[0m\u001b[0m\n\u001b[0;32m----> 8\u001b[0;31m         \u001b[0msuper\u001b[0m\u001b[0;34m(\u001b[0m\u001b[0mSecond\u001b[0m\u001b[0;34m,\u001b[0m \u001b[0mself\u001b[0m\u001b[0;34m)\u001b[0m\u001b[0;34m.\u001b[0m\u001b[0m__init__\u001b[0m\u001b[0;34m(\u001b[0m\u001b[0ma\u001b[0m\u001b[0;34m=\u001b[0m\u001b[0;36m2\u001b[0m\u001b[0;34m)\u001b[0m\u001b[0;34m\u001b[0m\u001b[0m\n\u001b[0m\u001b[1;32m      9\u001b[0m         \u001b[0;32mprint\u001b[0m \u001b[0;34m\"second after super\"\u001b[0m\u001b[0;34m\u001b[0m\u001b[0m\n\u001b[1;32m     10\u001b[0m \u001b[0;34m\u001b[0m\u001b[0m\n",
        "\u001b[0;31mTypeError\u001b[0m: __init__() got an unexpected keyword argument 'a'"
       ]
      }
     ],
     "prompt_number": 77
    },
    {
     "cell_type": "heading",
     "level": 1,
     "metadata": {
      "slideshow": {
       "slide_type": "subslide"
      }
     },
     "source": [
      "Metody wirtualne?"
     ]
    },
    {
     "cell_type": "code",
     "collapsed": true,
     "input": [
      "class A():\n",
      "    def suma(self, a, b):\n",
      "        return a + b\n",
      "    \n",
      "class AzMnozeniem(A):\n",
      "    def mnozenie(self, a, b):\n",
      "        return a * b"
     ],
     "language": "python",
     "metadata": {
      "slideshow": {
       "slide_type": "fragment"
      }
     },
     "outputs": [],
     "prompt_number": 81
    },
    {
     "cell_type": "code",
     "collapsed": true,
     "input": [
      "k = AzMnozeniem()"
     ],
     "language": "python",
     "metadata": {
      "slideshow": {
       "slide_type": "fragment"
      }
     },
     "outputs": [],
     "prompt_number": 82
    },
    {
     "cell_type": "code",
     "collapsed": false,
     "input": [
      "k.mnozenie(3, 4)"
     ],
     "language": "python",
     "metadata": {
      "slideshow": {
       "slide_type": "fragment"
      }
     },
     "outputs": [
      {
       "metadata": {},
       "output_type": "pyout",
       "prompt_number": 83,
       "text": [
        "12"
       ]
      }
     ],
     "prompt_number": 83
    },
    {
     "cell_type": "code",
     "collapsed": false,
     "input": [
      "k.suma(3, 4)"
     ],
     "language": "python",
     "metadata": {
      "slideshow": {
       "slide_type": "fragment"
      }
     },
     "outputs": [
      {
       "metadata": {},
       "output_type": "pyout",
       "prompt_number": 84,
       "text": [
        "7"
       ]
      }
     ],
     "prompt_number": 84
    },
    {
     "cell_type": "heading",
     "level": 1,
     "metadata": {
      "slideshow": {
       "slide_type": "subslide"
      }
     },
     "source": [
      "Przeci\u0105\u017canie operator\u00f3w"
     ]
    },
    {
     "cell_type": "code",
     "collapsed": false,
     "input": [
      "class A(object):\n",
      "    def __init__(self, a):\n",
      "        self.a = a\n",
      "    \n",
      "    def __add__(self, other):\n",
      "        self.a += other.a\n",
      "        return self"
     ],
     "language": "python",
     "metadata": {
      "slideshow": {
       "slide_type": "fragment"
      }
     },
     "outputs": [],
     "prompt_number": 88
    },
    {
     "cell_type": "code",
     "collapsed": false,
     "input": [
      "(A(4) + A(5)).a"
     ],
     "language": "python",
     "metadata": {
      "slideshow": {
       "slide_type": "fragment"
      }
     },
     "outputs": [
      {
       "metadata": {},
       "output_type": "pyout",
       "prompt_number": 90,
       "text": [
        "9"
       ]
      }
     ],
     "prompt_number": 90
    },
    {
     "cell_type": "markdown",
     "metadata": {
      "slideshow": {
       "slide_type": "subslide"
      }
     },
     "source": [
      "```object.__lt__(self, other)\n",
      "object.__le__(self, other)\n",
      "object.__eq__(self, other)\n",
      "object.__ne__(self, other)\n",
      "object.__gt__(self, other)\n",
      "object.__ge__(self, other)\n",
      "object.__add__(self, other)\n",
      "object.__sub__(self, other)\n",
      "object.__mul__(self, other)\n",
      "object.__floordiv__(self, other)\n",
      "object.__mod__(self, other)\n",
      "object.__divmod__(self, other)\n",
      "object.__pow__(self, other[, modulo])\n",
      "object.__lshift__(self, other)\n",
      "object.__rshift__(self, other)\n",
      "object.__and__(self, other)\n",
      "object.__xor__(self, other)\n",
      "object.__or__(self, other)```"
     ]
    },
    {
     "cell_type": "heading",
     "level": 1,
     "metadata": {
      "slideshow": {
       "slide_type": "subslide"
      }
     },
     "source": [
      "Klasy abstrakcyjne"
     ]
    },
    {
     "cell_type": "code",
     "collapsed": true,
     "input": [
      "import abc\n",
      "\n",
      "class Person():\n",
      "    __metaclass__ = abc.ABCMeta\n",
      "\n",
      "    def __init__(self, name):\n",
      "        self.name = name\n",
      "\n",
      "    @abc.abstractmethod\n",
      "    def say_hello(self):\n",
      "        pass\n",
      "\n",
      "class Programmer(Person):\n",
      "    def __init__(self, name, language):\n",
      "        Person.__init__(self, name)\n",
      "        self.language = language\n",
      "\n",
      "    def say_hello(self):\n",
      "        print('Hello! I\\'m %s and I write in %s.' % (self.name, self.language))"
     ],
     "language": "python",
     "metadata": {
      "slideshow": {
       "slide_type": "fragment"
      }
     },
     "outputs": [],
     "prompt_number": 93
    },
    {
     "cell_type": "code",
     "collapsed": false,
     "input": [
      "p = Person(name=\"Duck\")\n",
      "p"
     ],
     "language": "python",
     "metadata": {
      "slideshow": {
       "slide_type": "subslide"
      }
     },
     "outputs": [
      {
       "ename": "TypeError",
       "evalue": "Can't instantiate abstract class Person with abstract methods say_hello",
       "output_type": "pyerr",
       "traceback": [
        "\u001b[0;31m---------------------------------------------------------------------------\u001b[0m",
        "\u001b[0;31mTypeError\u001b[0m                                 Traceback (most recent call last)",
        "\u001b[0;32m<ipython-input-98-fb3ac259b820>\u001b[0m in \u001b[0;36m<module>\u001b[0;34m()\u001b[0m\n\u001b[0;32m----> 1\u001b[0;31m \u001b[0mp\u001b[0m \u001b[0;34m=\u001b[0m \u001b[0mPerson\u001b[0m\u001b[0;34m(\u001b[0m\u001b[0mname\u001b[0m\u001b[0;34m=\u001b[0m\u001b[0;34m\"Duck\"\u001b[0m\u001b[0;34m)\u001b[0m\u001b[0;34m\u001b[0m\u001b[0m\n\u001b[0m\u001b[1;32m      2\u001b[0m \u001b[0mp\u001b[0m\u001b[0;34m\u001b[0m\u001b[0m\n",
        "\u001b[0;31mTypeError\u001b[0m: Can't instantiate abstract class Person with abstract methods say_hello"
       ]
      }
     ],
     "prompt_number": 98
    },
    {
     "cell_type": "code",
     "collapsed": false,
     "input": [
      "p = Programmer(name=\"Duck\", language=\"Duck++\")\n",
      "p"
     ],
     "language": "python",
     "metadata": {
      "slideshow": {
       "slide_type": "fragment"
      }
     },
     "outputs": [
      {
       "metadata": {},
       "output_type": "pyout",
       "prompt_number": 97,
       "text": [
        "<__main__.Programmer at 0x102c1c490>"
       ]
      }
     ],
     "prompt_number": 97
    },
    {
     "cell_type": "code",
     "collapsed": false,
     "input": [
      "p.say_hello()"
     ],
     "language": "python",
     "metadata": {
      "slideshow": {
       "slide_type": "fragment"
      }
     },
     "outputs": [
      {
       "output_type": "stream",
       "stream": "stdout",
       "text": [
        "Hello! I'm Duck and I write in Duck++.\n"
       ]
      }
     ],
     "prompt_number": 99
    },
    {
     "cell_type": "heading",
     "level": 1,
     "metadata": {
      "slideshow": {
       "slide_type": "subslide"
      }
     },
     "source": [
      "Atrybuty"
     ]
    },
    {
     "cell_type": "code",
     "collapsed": true,
     "input": [
      "class A(object):\n",
      "    b = \"0.001\"\n",
      "    def __init__(self, a):\n",
      "        self.a = a"
     ],
     "language": "python",
     "metadata": {
      "slideshow": {
       "slide_type": "fragment"
      }
     },
     "outputs": [],
     "prompt_number": 105
    },
    {
     "cell_type": "code",
     "collapsed": false,
     "input": [
      "A.b"
     ],
     "language": "python",
     "metadata": {
      "slideshow": {
       "slide_type": "fragment"
      }
     },
     "outputs": [
      {
       "metadata": {},
       "output_type": "pyout",
       "prompt_number": 106,
       "text": [
        "'0.001'"
       ]
      }
     ],
     "prompt_number": 106
    },
    {
     "cell_type": "code",
     "collapsed": false,
     "input": [
      "A.a"
     ],
     "language": "python",
     "metadata": {
      "slideshow": {
       "slide_type": "fragment"
      }
     },
     "outputs": [
      {
       "ename": "AttributeError",
       "evalue": "type object 'A' has no attribute 'a'",
       "output_type": "pyerr",
       "traceback": [
        "\u001b[0;31m---------------------------------------------------------------------------\u001b[0m",
        "\u001b[0;31mAttributeError\u001b[0m                            Traceback (most recent call last)",
        "\u001b[0;32m<ipython-input-107-c22b74faba98>\u001b[0m in \u001b[0;36m<module>\u001b[0;34m()\u001b[0m\n\u001b[0;32m----> 1\u001b[0;31m \u001b[0mA\u001b[0m\u001b[0;34m.\u001b[0m\u001b[0ma\u001b[0m\u001b[0;34m\u001b[0m\u001b[0m\n\u001b[0m",
        "\u001b[0;31mAttributeError\u001b[0m: type object 'A' has no attribute 'a'"
       ]
      }
     ],
     "prompt_number": 107
    },
    {
     "cell_type": "code",
     "collapsed": false,
     "input": [
      "A(234).a"
     ],
     "language": "python",
     "metadata": {
      "slideshow": {
       "slide_type": "fragment"
      }
     },
     "outputs": [
      {
       "metadata": {},
       "output_type": "pyout",
       "prompt_number": 108,
       "text": [
        "234"
       ]
      }
     ],
     "prompt_number": 108
    },
    {
     "cell_type": "heading",
     "level": 1,
     "metadata": {
      "slideshow": {
       "slide_type": "slide"
      }
     },
     "source": [
      "Ciekawostki"
     ]
    },
    {
     "cell_type": "code",
     "collapsed": false,
     "input": [
      "class A():\n",
      "    j = 0\n",
      "    for i in range(10):\n",
      "        j += i"
     ],
     "language": "python",
     "metadata": {
      "slideshow": {
       "slide_type": "subslide"
      }
     },
     "outputs": [],
     "prompt_number": 111
    },
    {
     "cell_type": "code",
     "collapsed": false,
     "input": [
      "A.j"
     ],
     "language": "python",
     "metadata": {
      "slideshow": {
       "slide_type": "fragment"
      }
     },
     "outputs": [
      {
       "metadata": {},
       "output_type": "pyout",
       "prompt_number": 112,
       "text": [
        "45"
       ]
      }
     ],
     "prompt_number": 112
    },
    {
     "cell_type": "heading",
     "level": 2,
     "metadata": {
      "slideshow": {
       "slide_type": "subslide"
      }
     },
     "source": [
      "Pr\u0119dko\u015b\u0107"
     ]
    },
    {
     "cell_type": "code",
     "collapsed": true,
     "input": [
      "import math\n",
      "import random\n",
      "class Pole(object):\n",
      "    def __init__(self, r=2.):\n",
      "        self.r = r\n",
      "    def oblicz(self):\n",
      "        return math.pi * (self.r**2)"
     ],
     "language": "python",
     "metadata": {
      "slideshow": {
       "slide_type": "fragment"
      }
     },
     "outputs": [],
     "prompt_number": 146
    },
    {
     "cell_type": "code",
     "collapsed": false,
     "input": [
      "n = 1000\n",
      "def get_mean_cls(n=n):\n",
      "    return sum([Pole(random.random()).oblicz() for i in range(n)])/float(n)\n",
      "def get_mean(n=n):\n",
      "    return sum([math.pi * (random.random()**2) for r in range(n)])/float(n)"
     ],
     "language": "python",
     "metadata": {
      "slideshow": {
       "slide_type": "subslide"
      }
     },
     "outputs": [],
     "prompt_number": 147
    },
    {
     "cell_type": "code",
     "collapsed": false,
     "input": [
      "%timeit get_mean_cls()"
     ],
     "language": "python",
     "metadata": {
      "slideshow": {
       "slide_type": "fragment"
      }
     },
     "outputs": [
      {
       "output_type": "stream",
       "stream": "stdout",
       "text": [
        "1000 loops, best of 3: 920 \u00b5s per loop\n"
       ]
      }
     ],
     "prompt_number": 152
    },
    {
     "cell_type": "code",
     "collapsed": false,
     "input": [
      "%timeit get_mean()"
     ],
     "language": "python",
     "metadata": {
      "slideshow": {
       "slide_type": "fragment"
      }
     },
     "outputs": [
      {
       "output_type": "stream",
       "stream": "stdout",
       "text": [
        "1000 loops, best of 3: 286 \u00b5s per loop\n"
       ]
      }
     ],
     "prompt_number": 153
    },
    {
     "cell_type": "heading",
     "level": 1,
     "metadata": {
      "slideshow": {
       "slide_type": "slide"
      }
     },
     "source": [
      "Property"
     ]
    },
    {
     "cell_type": "code",
     "collapsed": true,
     "input": [
      "class Kaczka(object):\n",
      "    def __init__(self, dl_skrzydla):\n",
      "        self.dl_skrzydla = dl_skrzydla\n",
      "    \n",
      "    def plyn(self):\n",
      "        print \"Chlup chlup\""
     ],
     "language": "python",
     "metadata": {
      "slideshow": {
       "slide_type": "fragment"
      }
     },
     "outputs": [],
     "prompt_number": 161
    },
    {
     "cell_type": "code",
     "collapsed": false,
     "input": [
      "k = Kaczka(124)\n",
      "k.plyn()\n",
      "k.dl_skrzydla"
     ],
     "language": "python",
     "metadata": {
      "slideshow": {
       "slide_type": "fragment"
      }
     },
     "outputs": [
      {
       "output_type": "stream",
       "stream": "stdout",
       "text": [
        "Chlup chlup\n"
       ]
      },
      {
       "metadata": {},
       "output_type": "pyout",
       "prompt_number": 162,
       "text": [
        "124"
       ]
      }
     ],
     "prompt_number": 162
    },
    {
     "cell_type": "code",
     "collapsed": false,
     "input": [
      "class Kaczuszka(Kaczka):\n",
      "    def __init__(self, dl_skrzydla):\n",
      "        self._dl_skrzydla = dl_skrzydla\n",
      "    \n",
      "    @property\n",
      "    def dl_skrzydla(self):\n",
      "        return self._dl_skrzydla / 2.\n",
      "    \n",
      "    @dl_skrzydla.setter\n",
      "    def dl_skrzydla(self, value):\n",
      "        self._dl_skrzydla = value"
     ],
     "language": "python",
     "metadata": {
      "slideshow": {
       "slide_type": "subslide"
      }
     },
     "outputs": [],
     "prompt_number": 165
    },
    {
     "cell_type": "code",
     "collapsed": false,
     "input": [
      "k = Kaczuszka(124)\n",
      "k.plyn()\n",
      "k.dl_skrzydla"
     ],
     "language": "python",
     "metadata": {
      "slideshow": {
       "slide_type": "fragment"
      }
     },
     "outputs": [
      {
       "output_type": "stream",
       "stream": "stdout",
       "text": [
        "Chlup chlup\n"
       ]
      },
      {
       "metadata": {},
       "output_type": "pyout",
       "prompt_number": 184,
       "text": [
        "62.0"
       ]
      }
     ],
     "prompt_number": 184
    },
    {
     "cell_type": "code",
     "collapsed": false,
     "input": [
      "k.dl_skrzydla = 100\n",
      "k.dl_skrzydla"
     ],
     "language": "python",
     "metadata": {
      "slideshow": {
       "slide_type": "subslide"
      }
     },
     "outputs": [
      {
       "metadata": {},
       "output_type": "pyout",
       "prompt_number": 188,
       "text": [
        "50.0"
       ]
      }
     ],
     "prompt_number": 188
    },
    {
     "cell_type": "code",
     "collapsed": false,
     "input": [
      "k.dl_skrzydla += 50"
     ],
     "language": "python",
     "metadata": {
      "slideshow": {
       "slide_type": "fragment"
      }
     },
     "outputs": [],
     "prompt_number": 189
    },
    {
     "cell_type": "code",
     "collapsed": false,
     "input": [
      "k.dl_skrzydla"
     ],
     "language": "python",
     "metadata": {
      "slideshow": {
       "slide_type": "fragment"
      }
     },
     "outputs": [
      {
       "metadata": {},
       "output_type": "pyout",
       "prompt_number": 190,
       "text": [
        "50.0"
       ]
      }
     ],
     "prompt_number": 190
    },
    {
     "cell_type": "heading",
     "level": 1,
     "metadata": {
      "slideshow": {
       "slide_type": "slide"
      }
     },
     "source": [
      "Zadanie"
     ]
    },
    {
     "cell_type": "markdown",
     "metadata": {
      "slideshow": {
       "slide_type": "subslide"
      }
     },
     "source": [
      "1 . Stworz klas\u0119 ko\u0142o w kt\u00f3r\u0105\u00a0inicjalizuje si\u0119\u00a0promieniem.<br>\n",
      "Klasa ta powinna mie\u0107 metody obliczaj\u0105ce:\n",
      "* obw\u00f3d\n",
      "* pole\n",
      "* metod\u0119 statyczn\u0105 zmieniaj\u0105c\u0105 k\u0105t na radiany\n",
      "* dodatkowy konstruktor tworz\u0105cy klas\u0119 ze \u015brednicy\n",
      "\n",
      "<br>\n",
      "2 . Napisz klas\u0119\u00a0opona kt\u00f3ra r\u00f3wnie\u017c inicjalizujesz promieniem. <br>\n",
      "Obw\u00f3d opony jest 1.25 razy wi\u0119kszy od obowodu ko\u0142a. <br>\n",
      "3 . Do liczenia pola w klasie ko\u0142o wykorzystaj metod\u0119 licz\u0105ca obw\u00f3d. (Przepisy to reguluj\u0105 nic nie mo\u017cesz z tym zrobi\u0107, wiem to nieoptymalne, ale mus to mus)<br>\n",
      "4 . Co si\u0119 sta\u0142o z klasa opony? Czy jej pole liczone jest poprawnie? Zabezpiecz kod przed tym! <br>\n",
      "5 . Nowy rz\u0105d du\u017co ostatnio m\u0105ci... m\u00f3wi, \u017ce nie wolno nam zapisywa\u0107 atrybutu \"promie\u0144\" w kole, musimy zapisywa\u0107 \u015brednice, spraw aby kod klasy opona nadal dzia\u0142a\u0142 <br>\n",
      "\n",
      "Postaraj si\u0119, \u017ceby kod by\u0142 \u0142adny, napisz docstringi, wersje ..."
     ]
    }
   ],
   "metadata": {}
  }
 ]
}